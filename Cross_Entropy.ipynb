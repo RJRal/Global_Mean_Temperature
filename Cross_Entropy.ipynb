{
 "cells": [
  {
   "cell_type": "code",
   "execution_count": 2,
   "metadata": {},
   "outputs": [
    {
     "data": {
      "text/html": [
       "<div>\n",
       "<style scoped>\n",
       "    .dataframe tbody tr th:only-of-type {\n",
       "        vertical-align: middle;\n",
       "    }\n",
       "\n",
       "    .dataframe tbody tr th {\n",
       "        vertical-align: top;\n",
       "    }\n",
       "\n",
       "    .dataframe thead th {\n",
       "        text-align: right;\n",
       "    }\n",
       "</style>\n",
       "<table border=\"1\" class=\"dataframe\">\n",
       "  <thead>\n",
       "    <tr style=\"text-align: right;\">\n",
       "      <th></th>\n",
       "      <th>Land</th>\n",
       "      <th>Land and Ocean</th>\n",
       "      <th>N Hem</th>\n",
       "      <th>S Hem</th>\n",
       "    </tr>\n",
       "  </thead>\n",
       "  <tbody>\n",
       "    <tr>\n",
       "      <th>0</th>\n",
       "      <td>-0.43</td>\n",
       "      <td>-0.21</td>\n",
       "      <td>-0.33</td>\n",
       "      <td>-0.09</td>\n",
       "    </tr>\n",
       "    <tr>\n",
       "      <th>1</th>\n",
       "      <td>-0.34</td>\n",
       "      <td>-0.13</td>\n",
       "      <td>-0.22</td>\n",
       "      <td>-0.03</td>\n",
       "    </tr>\n",
       "    <tr>\n",
       "      <th>2</th>\n",
       "      <td>-0.28</td>\n",
       "      <td>-0.16</td>\n",
       "      <td>-0.24</td>\n",
       "      <td>-0.07</td>\n",
       "    </tr>\n",
       "    <tr>\n",
       "      <th>3</th>\n",
       "      <td>-0.28</td>\n",
       "      <td>-0.19</td>\n",
       "      <td>-0.29</td>\n",
       "      <td>-0.08</td>\n",
       "    </tr>\n",
       "    <tr>\n",
       "      <th>4</th>\n",
       "      <td>-0.57</td>\n",
       "      <td>-0.27</td>\n",
       "      <td>-0.41</td>\n",
       "      <td>-0.12</td>\n",
       "    </tr>\n",
       "  </tbody>\n",
       "</table>\n",
       "</div>"
      ],
      "text/plain": [
       "   Land  Land and Ocean  N Hem  S Hem\n",
       "0 -0.43           -0.21  -0.33  -0.09\n",
       "1 -0.34           -0.13  -0.22  -0.03\n",
       "2 -0.28           -0.16  -0.24  -0.07\n",
       "3 -0.28           -0.19  -0.29  -0.08\n",
       "4 -0.57           -0.27  -0.41  -0.12"
      ]
     },
     "execution_count": 2,
     "metadata": {},
     "output_type": "execute_result"
    }
   ],
   "source": [
    "import csv\n",
    "import pandas as pd\n",
    "import numpy as np\n",
    "\n",
    "file_name=\"/home/rusul/Desktop/Upload/global-temp-annual_csv.csv\"\n",
    "\n",
    "df1 = pd.read_csv(file_name)\n",
    "#df1.dropna()\n",
    "df1.head()\n",
    " \n",
    "temp=df1[['Land', 'Land and Ocean', 'N Hem', 'S Hem']]   \n",
    "temp.head()"
   ]
  },
  {
   "cell_type": "code",
   "execution_count": 3,
   "metadata": {},
   "outputs": [],
   "source": [
    "from math import log2"
   ]
  },
  {
   "cell_type": "code",
   "execution_count": 5,
   "metadata": {},
   "outputs": [],
   "source": [
    "def cross_entropy(p, q):\n",
    "    return -sum([p[i]*log2(q[i]) for i in range(len(p))])"
   ]
  },
  {
   "cell_type": "code",
   "execution_count": 7,
   "metadata": {},
   "outputs": [],
   "source": [
    "gt=np.array(temp['Land and Ocean'])\n",
    "nh=np.array(temp['N Hem'])\n",
    "sh=np.array(temp['S Hem'])"
   ]
  },
  {
   "cell_type": "code",
   "execution_count": 18,
   "metadata": {},
   "outputs": [
    {
     "data": {
      "image/png": "[encoded data removed]",
      "text/plain": [
       "<Figure size 432x288 with 1 Axes>"
      ]
     },
     "metadata": {
      "needs_background": "light"
     },
     "output_type": "display_data"
    }
   ],
   "source": [
    "# Are the data normaly distributed? \n",
    "\n",
    "import matplotlib.pyplot as plt\n",
    "import numpy as np\n",
    "\n",
    "# Create the bins and histogram\n",
    "count, bins, ignored = plt.hist(nh, 20, normed=True)\n",
    "plt.show()"
   ]
  },
  {
   "cell_type": "code",
   "execution_count": 19,
   "metadata": {},
   "outputs": [
    {
     "data": {
      "image/png": "[encoded data removed]",
      "text/plain": [
       "<Figure size 432x288 with 1 Axes>"
      ]
     },
     "metadata": {
      "needs_background": "light"
     },
     "output_type": "display_data"
    }
   ],
   "source": [
    "count, bins, ignored = plt.hist(sh, 20, normed=True)\n",
    "plt.show()"
   ]
  },
  {
   "cell_type": "code",
   "execution_count": 22,
   "metadata": {},
   "outputs": [],
   "source": [
    "# Convert data to probabilities\n",
    "\n",
    "def probability(data):\n",
    "    return 1/(np.std(data) * np.sqrt(2 * np.pi)) * np.exp( - (bins - np.mean(data))**2 / (2 * np.std(data)**2)) "
   ]
  },
  {
   "cell_type": "code",
   "execution_count": 23,
   "metadata": {},
   "outputs": [
    {
     "data": {
      "text/plain": [
       "array([0.369692  , 0.45755479, 0.55414111, 0.65670732, 0.76154849,\n",
       "       0.86416663, 0.9595589 , 1.04260549, 1.10851762, 1.15329235,\n",
       "       1.17411447, 1.16964938, 1.14018459, 1.08759915, 1.01516532,\n",
       "       0.92721171, 0.82869604, 0.72474602, 0.62022695, 0.5193853 ,\n",
       "       0.42560125])"
      ]
     },
     "execution_count": 23,
     "metadata": {},
     "output_type": "execute_result"
    }
   ],
   "source": [
    "probability(nh)"
   ]
  },
  {
   "cell_type": "code",
   "execution_count": 35,
   "metadata": {},
   "outputs": [
    {
     "name": "stdout",
     "output_type": "stream",
     "text": [
      "2.1290285892122154\n",
      "2.317557937965714\n"
     ]
    }
   ],
   "source": [
    "print(cross_entropy(probability(nh),probability(sh)))\n",
    "print(cross_entropy(probability(sh),probability(nh)))"
   ]
  },
  {
   "cell_type": "code",
   "execution_count": 29,
   "metadata": {},
   "outputs": [
    {
     "data": {
      "text/plain": [
       "-0.515161270213584"
      ]
     },
     "execution_count": 29,
     "metadata": {},
     "output_type": "execute_result"
    }
   ],
   "source": [
    "cross_entropy(probability(sh),probability(sh))\n"
   ]
  },
  {
   "cell_type": "code",
   "execution_count": 30,
   "metadata": {},
   "outputs": [
    {
     "data": {
      "text/plain": [
       "3.190072769978261"
      ]
     },
     "execution_count": 30,
     "metadata": {},
     "output_type": "execute_result"
    }
   ],
   "source": [
    "cross_entropy(probability(nh),probability(nh))"
   ]
  },
  {
   "cell_type": "code",
   "execution_count": 31,
   "metadata": {},
   "outputs": [
    {
     "data": {
      "text/plain": [
       "1.0530715318865869"
      ]
     },
     "execution_count": 31,
     "metadata": {},
     "output_type": "execute_result"
    }
   ],
   "source": [
    "cross_entropy(probability(gt),probability(gt))"
   ]
  },
  {
   "cell_type": "code",
   "execution_count": 33,
   "metadata": {},
   "outputs": [
    {
     "name": "stdout",
     "output_type": "stream",
     "text": [
      "2.6554272221638624\n",
      "2.056764361570928\n",
      "0.6838720841851925\n",
      "0.31264798202481564\n"
     ]
    }
   ],
   "source": [
    "print(cross_entropy(probability(gt),probability(nh)))\n",
    "print(cross_entropy(probability(nh),probability(gt)))\n",
    "print(cross_entropy(probability(gt),probability(sh)))\n",
    "print(cross_entropy(probability(sh),probability(gt)))"
   ]
  },
  {
   "cell_type": "code",
   "execution_count": null,
   "metadata": {},
   "outputs": [],
   "source": []
  }
 ],
 "metadata": {
  "kernelspec": {
   "display_name": "Python 3",
   "language": "python",
   "name": "python3"
  },
  "language_info": {
   "codemirror_mode": {
    "name": "ipython",
    "version": 3
   },
   "file_extension": ".py",
   "mimetype": "text/x-python",
   "name": "python",
   "nbconvert_exporter": "python",
   "pygments_lexer": "ipython3",
   "version": "3.7.3"
  }
 },
 "nbformat": 4,
 "nbformat_minor": 2
}
